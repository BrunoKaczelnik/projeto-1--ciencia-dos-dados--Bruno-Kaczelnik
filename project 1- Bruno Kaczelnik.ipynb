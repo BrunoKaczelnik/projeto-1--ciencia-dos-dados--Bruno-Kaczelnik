{
 "cells": [
  {
   "cell_type": "code",
   "execution_count": 80,
   "metadata": {},
   "outputs": [
    {
     "data": {
      "text/plain": [
       "'\\nPROJETO 1\\n\\nPergunta: Existe relacao entre a producao de eletricidade por pessoa e o IDH de um pais?\\naluno: Bruno Kaczelnik\\n'"
      ]
     },
     "execution_count": 80,
     "metadata": {},
     "output_type": "execute_result"
    }
   ],
   "source": [
    "\"\"\"\n",
    "PROJETO 1\n",
    "\n",
    "Pergunta: Existe relacao entre a producao de eletricidade por pessoa e o IDH de um pais?\n",
    "aluno: Bruno Kaczelnik\n",
    "\"\"\""
   ]
  },
  {
   "cell_type": "code",
   "execution_count": 81,
   "metadata": {},
   "outputs": [],
   "source": [
    "%matplotlib inline\n",
    "import pandas as pd\n",
    "import numpy as np\n",
    "import math as math\n",
    "from scipy import stats\n",
    "import matplotlib.pyplot as plt\n"
   ]
  },
  {
   "cell_type": "code",
   "execution_count": 82,
   "metadata": {},
   "outputs": [],
   "source": [
    "elctricity = pd.read_excel('Electricity Generation per capita.xls.xlsx')\n",
    "HDI=pd.read_excel('Indicator_HDI.xlsx')"
   ]
  },
  {
   "cell_type": "code",
   "execution_count": 83,
   "metadata": {},
   "outputs": [
    {
     "data": {
      "text/html": [
       "<div>\n",
       "<style scoped>\n",
       "    .dataframe tbody tr th:only-of-type {\n",
       "        vertical-align: middle;\n",
       "    }\n",
       "\n",
       "    .dataframe tbody tr th {\n",
       "        vertical-align: top;\n",
       "    }\n",
       "\n",
       "    .dataframe thead th {\n",
       "        text-align: right;\n",
       "    }\n",
       "</style>\n",
       "<table border=\"1\" class=\"dataframe\">\n",
       "  <thead>\n",
       "    <tr style=\"text-align: right;\">\n",
       "      <th></th>\n",
       "      <th>Electricity generation per person (kilowatt-hours)</th>\n",
       "      <th>1990</th>\n",
       "      <th>1991</th>\n",
       "      <th>1992</th>\n",
       "      <th>1993</th>\n",
       "      <th>1994</th>\n",
       "      <th>1995</th>\n",
       "      <th>1996</th>\n",
       "      <th>1997</th>\n",
       "      <th>1998</th>\n",
       "      <th>1999</th>\n",
       "      <th>2000</th>\n",
       "      <th>2001</th>\n",
       "      <th>2002</th>\n",
       "      <th>2003</th>\n",
       "      <th>2004</th>\n",
       "      <th>2005</th>\n",
       "      <th>2006</th>\n",
       "      <th>2007</th>\n",
       "      <th>2008</th>\n",
       "    </tr>\n",
       "  </thead>\n",
       "  <tbody>\n",
       "    <tr>\n",
       "      <th>0</th>\n",
       "      <td>Algeria</td>\n",
       "      <td>641.768667</td>\n",
       "      <td>675.180047</td>\n",
       "      <td>695.328186</td>\n",
       "      <td>721.369338</td>\n",
       "      <td>722.570425</td>\n",
       "      <td>702.036811</td>\n",
       "      <td>722.292263</td>\n",
       "      <td>727.503752</td>\n",
       "      <td>799.931710</td>\n",
       "      <td>826.260927</td>\n",
       "      <td>822.379996</td>\n",
       "      <td>851.044023</td>\n",
       "      <td>875.855008</td>\n",
       "      <td>920.484917</td>\n",
       "      <td>962.516360</td>\n",
       "      <td>1033.172011</td>\n",
       "      <td>1063.064174</td>\n",
       "      <td>1108.533902</td>\n",
       "      <td>1185.163977</td>\n",
       "    </tr>\n",
       "    <tr>\n",
       "      <th>1</th>\n",
       "      <td>Argentina</td>\n",
       "      <td>1542.598522</td>\n",
       "      <td>1613.957173</td>\n",
       "      <td>1656.765152</td>\n",
       "      <td>1817.099848</td>\n",
       "      <td>1882.204332</td>\n",
       "      <td>1902.209136</td>\n",
       "      <td>1951.104770</td>\n",
       "      <td>2001.548857</td>\n",
       "      <td>2024.082240</td>\n",
       "      <td>2177.951519</td>\n",
       "      <td>2372.890432</td>\n",
       "      <td>2377.272622</td>\n",
       "      <td>2206.588218</td>\n",
       "      <td>2375.970124</td>\n",
       "      <td>2561.441632</td>\n",
       "      <td>2669.461079</td>\n",
       "      <td>2934.284105</td>\n",
       "      <td>2998.070043</td>\n",
       "      <td>3074.364632</td>\n",
       "    </tr>\n",
       "    <tr>\n",
       "      <th>2</th>\n",
       "      <td>Australia</td>\n",
       "      <td>9162.424004</td>\n",
       "      <td>9169.912304</td>\n",
       "      <td>9249.411551</td>\n",
       "      <td>9363.724962</td>\n",
       "      <td>9525.692722</td>\n",
       "      <td>9687.698355</td>\n",
       "      <td>9832.092495</td>\n",
       "      <td>10209.992942</td>\n",
       "      <td>10637.873333</td>\n",
       "      <td>10837.321973</td>\n",
       "      <td>11077.756825</td>\n",
       "      <td>11447.806995</td>\n",
       "      <td>11625.385895</td>\n",
       "      <td>11567.823084</td>\n",
       "      <td>11921.567985</td>\n",
       "      <td>12392.373546</td>\n",
       "      <td>12571.479922</td>\n",
       "      <td>12752.806866</td>\n",
       "      <td>13216.047916</td>\n",
       "    </tr>\n",
       "    <tr>\n",
       "      <th>3</th>\n",
       "      <td>Austria</td>\n",
       "      <td>6527.813907</td>\n",
       "      <td>6584.959652</td>\n",
       "      <td>6466.228737</td>\n",
       "      <td>6593.771949</td>\n",
       "      <td>6640.764169</td>\n",
       "      <td>7031.683271</td>\n",
       "      <td>6802.630789</td>\n",
       "      <td>7044.841829</td>\n",
       "      <td>7109.752133</td>\n",
       "      <td>7458.344020</td>\n",
       "      <td>7616.769909</td>\n",
       "      <td>7600.265136</td>\n",
       "      <td>7691.286244</td>\n",
       "      <td>7377.378148</td>\n",
       "      <td>7863.837504</td>\n",
       "      <td>7407.976673</td>\n",
       "      <td>7737.694193</td>\n",
       "      <td>7773.498396</td>\n",
       "      <td>8262.229888</td>\n",
       "    </tr>\n",
       "    <tr>\n",
       "      <th>4</th>\n",
       "      <td>Azerbaijan</td>\n",
       "      <td>3222.294724</td>\n",
       "      <td>3195.801399</td>\n",
       "      <td>2653.630117</td>\n",
       "      <td>2547.616078</td>\n",
       "      <td>2320.233410</td>\n",
       "      <td>2233.728701</td>\n",
       "      <td>2228.408478</td>\n",
       "      <td>2183.200970</td>\n",
       "      <td>2320.454809</td>\n",
       "      <td>2341.789782</td>\n",
       "      <td>2413.475297</td>\n",
       "      <td>2440.969686</td>\n",
       "      <td>2398.026184</td>\n",
       "      <td>2718.253289</td>\n",
       "      <td>2763.464167</td>\n",
       "      <td>2890.808286</td>\n",
       "      <td>3082.664468</td>\n",
       "      <td>2724.979167</td>\n",
       "      <td>2679.228220</td>\n",
       "    </tr>\n",
       "  </tbody>\n",
       "</table>\n",
       "</div>"
      ],
      "text/plain": [
       "  Electricity generation per person (kilowatt-hours)         1990  \\\n",
       "0                                            Algeria   641.768667   \n",
       "1                                          Argentina  1542.598522   \n",
       "2                                          Australia  9162.424004   \n",
       "3                                            Austria  6527.813907   \n",
       "4                                         Azerbaijan  3222.294724   \n",
       "\n",
       "          1991         1992         1993         1994         1995  \\\n",
       "0   675.180047   695.328186   721.369338   722.570425   702.036811   \n",
       "1  1613.957173  1656.765152  1817.099848  1882.204332  1902.209136   \n",
       "2  9169.912304  9249.411551  9363.724962  9525.692722  9687.698355   \n",
       "3  6584.959652  6466.228737  6593.771949  6640.764169  7031.683271   \n",
       "4  3195.801399  2653.630117  2547.616078  2320.233410  2233.728701   \n",
       "\n",
       "          1996          1997          1998          1999          2000  \\\n",
       "0   722.292263    727.503752    799.931710    826.260927    822.379996   \n",
       "1  1951.104770   2001.548857   2024.082240   2177.951519   2372.890432   \n",
       "2  9832.092495  10209.992942  10637.873333  10837.321973  11077.756825   \n",
       "3  6802.630789   7044.841829   7109.752133   7458.344020   7616.769909   \n",
       "4  2228.408478   2183.200970   2320.454809   2341.789782   2413.475297   \n",
       "\n",
       "           2001          2002          2003          2004          2005  \\\n",
       "0    851.044023    875.855008    920.484917    962.516360   1033.172011   \n",
       "1   2377.272622   2206.588218   2375.970124   2561.441632   2669.461079   \n",
       "2  11447.806995  11625.385895  11567.823084  11921.567985  12392.373546   \n",
       "3   7600.265136   7691.286244   7377.378148   7863.837504   7407.976673   \n",
       "4   2440.969686   2398.026184   2718.253289   2763.464167   2890.808286   \n",
       "\n",
       "           2006          2007          2008  \n",
       "0   1063.064174   1108.533902   1185.163977  \n",
       "1   2934.284105   2998.070043   3074.364632  \n",
       "2  12571.479922  12752.806866  13216.047916  \n",
       "3   7737.694193   7773.498396   8262.229888  \n",
       "4   3082.664468   2724.979167   2679.228220  "
      ]
     },
     "execution_count": 83,
     "metadata": {},
     "output_type": "execute_result"
    }
   ],
   "source": [
    "elctricity.head()\n"
   ]
  },
  {
   "cell_type": "code",
   "execution_count": 84,
   "metadata": {},
   "outputs": [],
   "source": [
    "elctricity_2008 = elctricity.loc[:, [\"Electricity generation per person (kilowatt-hours)\", 2008]]\n",
    "HDI_2008 = HDI.loc[:, [\"HDI\", 2008]]\n"
   ]
  },
  {
   "cell_type": "code",
   "execution_count": 85,
   "metadata": {},
   "outputs": [],
   "source": [
    "elctricity_2008_idx=elctricity_2008.set_index('Electricity generation per person (kilowatt-hours)')\n",
    "HDI_2008_idx= HDI_2008.set_index('HDI')"
   ]
  },
  {
   "cell_type": "code",
   "execution_count": 86,
   "metadata": {},
   "outputs": [
    {
     "data": {
      "text/html": [
       "<div>\n",
       "<style scoped>\n",
       "    .dataframe tbody tr th:only-of-type {\n",
       "        vertical-align: middle;\n",
       "    }\n",
       "\n",
       "    .dataframe tbody tr th {\n",
       "        vertical-align: top;\n",
       "    }\n",
       "\n",
       "    .dataframe thead th {\n",
       "        text-align: right;\n",
       "    }\n",
       "</style>\n",
       "<table border=\"1\" class=\"dataframe\">\n",
       "  <thead>\n",
       "    <tr style=\"text-align: right;\">\n",
       "      <th></th>\n",
       "      <th>2008</th>\n",
       "    </tr>\n",
       "    <tr>\n",
       "      <th>Electricity generation per person (kilowatt-hours)</th>\n",
       "      <th></th>\n",
       "    </tr>\n",
       "  </thead>\n",
       "  <tbody>\n",
       "    <tr>\n",
       "      <th>Algeria</th>\n",
       "      <td>1185.163977</td>\n",
       "    </tr>\n",
       "    <tr>\n",
       "      <th>Argentina</th>\n",
       "      <td>3074.364632</td>\n",
       "    </tr>\n",
       "    <tr>\n",
       "      <th>Australia</th>\n",
       "      <td>13216.047916</td>\n",
       "    </tr>\n",
       "    <tr>\n",
       "      <th>Austria</th>\n",
       "      <td>8262.229888</td>\n",
       "    </tr>\n",
       "    <tr>\n",
       "      <th>Azerbaijan</th>\n",
       "      <td>2679.228220</td>\n",
       "    </tr>\n",
       "  </tbody>\n",
       "</table>\n",
       "</div>"
      ],
      "text/plain": [
       "                                                            2008\n",
       "Electricity generation per person (kilowatt-hours)              \n",
       "Algeria                                              1185.163977\n",
       "Argentina                                            3074.364632\n",
       "Australia                                           13216.047916\n",
       "Austria                                              8262.229888\n",
       "Azerbaijan                                           2679.228220"
      ]
     },
     "execution_count": 86,
     "metadata": {},
     "output_type": "execute_result"
    }
   ],
   "source": [
    "elctricity_2008_idx.head()"
   ]
  },
  {
   "cell_type": "code",
   "execution_count": 87,
   "metadata": {},
   "outputs": [
    {
     "data": {
      "text/html": [
       "<div>\n",
       "<style scoped>\n",
       "    .dataframe tbody tr th:only-of-type {\n",
       "        vertical-align: middle;\n",
       "    }\n",
       "\n",
       "    .dataframe tbody tr th {\n",
       "        vertical-align: top;\n",
       "    }\n",
       "\n",
       "    .dataframe thead th {\n",
       "        text-align: right;\n",
       "    }\n",
       "</style>\n",
       "<table border=\"1\" class=\"dataframe\">\n",
       "  <thead>\n",
       "    <tr style=\"text-align: right;\">\n",
       "      <th></th>\n",
       "      <th>2008</th>\n",
       "    </tr>\n",
       "    <tr>\n",
       "      <th>HDI</th>\n",
       "      <th></th>\n",
       "    </tr>\n",
       "  </thead>\n",
       "  <tbody>\n",
       "    <tr>\n",
       "      <th>Abkhazia</th>\n",
       "      <td>NaN</td>\n",
       "    </tr>\n",
       "    <tr>\n",
       "      <th>Afghanistan</th>\n",
       "      <td>0.370</td>\n",
       "    </tr>\n",
       "    <tr>\n",
       "      <th>Akrotiri and Dhekelia</th>\n",
       "      <td>NaN</td>\n",
       "    </tr>\n",
       "    <tr>\n",
       "      <th>Albania</th>\n",
       "      <td>0.733</td>\n",
       "    </tr>\n",
       "    <tr>\n",
       "      <th>Algeria</th>\n",
       "      <td>0.686</td>\n",
       "    </tr>\n",
       "  </tbody>\n",
       "</table>\n",
       "</div>"
      ],
      "text/plain": [
       "                        2008\n",
       "HDI                         \n",
       "Abkhazia                 NaN\n",
       "Afghanistan            0.370\n",
       "Akrotiri and Dhekelia    NaN\n",
       "Albania                0.733\n",
       "Algeria                0.686"
      ]
     },
     "execution_count": 87,
     "metadata": {},
     "output_type": "execute_result"
    }
   ],
   "source": [
    "HDI_2008_idx.head()"
   ]
  },
  {
   "cell_type": "code",
   "execution_count": 88,
   "metadata": {},
   "outputs": [
    {
     "data": {
      "text/html": [
       "<div>\n",
       "<style scoped>\n",
       "    .dataframe tbody tr th:only-of-type {\n",
       "        vertical-align: middle;\n",
       "    }\n",
       "\n",
       "    .dataframe tbody tr th {\n",
       "        vertical-align: top;\n",
       "    }\n",
       "\n",
       "    .dataframe thead th {\n",
       "        text-align: right;\n",
       "    }\n",
       "</style>\n",
       "<table border=\"1\" class=\"dataframe\">\n",
       "  <thead>\n",
       "    <tr style=\"text-align: right;\">\n",
       "      <th></th>\n",
       "      <th>2008_electricity</th>\n",
       "      <th>2008_HDI</th>\n",
       "    </tr>\n",
       "  </thead>\n",
       "  <tbody>\n",
       "    <tr>\n",
       "      <th>Algeria</th>\n",
       "      <td>1185.163977</td>\n",
       "      <td>0.686</td>\n",
       "    </tr>\n",
       "    <tr>\n",
       "      <th>Argentina</th>\n",
       "      <td>3074.364632</td>\n",
       "      <td>0.786</td>\n",
       "    </tr>\n",
       "    <tr>\n",
       "      <th>Australia</th>\n",
       "      <td>13216.047916</td>\n",
       "      <td>0.924</td>\n",
       "    </tr>\n",
       "    <tr>\n",
       "      <th>Austria</th>\n",
       "      <td>8262.229888</td>\n",
       "      <td>0.876</td>\n",
       "    </tr>\n",
       "    <tr>\n",
       "      <th>Azerbaijan</th>\n",
       "      <td>2679.228220</td>\n",
       "      <td>NaN</td>\n",
       "    </tr>\n",
       "    <tr>\n",
       "      <th>Bangladesh</th>\n",
       "      <td>179.078834</td>\n",
       "      <td>0.484</td>\n",
       "    </tr>\n",
       "    <tr>\n",
       "      <th>Belarus</th>\n",
       "      <td>3393.482961</td>\n",
       "      <td>0.744</td>\n",
       "    </tr>\n",
       "  </tbody>\n",
       "</table>\n",
       "</div>"
      ],
      "text/plain": [
       "            2008_electricity  2008_HDI\n",
       "Algeria          1185.163977     0.686\n",
       "Argentina        3074.364632     0.786\n",
       "Australia       13216.047916     0.924\n",
       "Austria          8262.229888     0.876\n",
       "Azerbaijan       2679.228220       NaN\n",
       "Bangladesh        179.078834     0.484\n",
       "Belarus          3393.482961     0.744"
      ]
     },
     "execution_count": 88,
     "metadata": {},
     "output_type": "execute_result"
    }
   ],
   "source": [
    "data = elctricity_2008_idx.join(HDI_2008_idx, how='inner', lsuffix='_electricity', rsuffix='_HDI')\n",
    "data.head(7)"
   ]
  },
  {
   "cell_type": "code",
   "execution_count": 89,
   "metadata": {},
   "outputs": [],
   "source": [
    "data.to_csv( 'electricity_HDI.csv', index=True)"
   ]
  },
  {
   "cell_type": "code",
   "execution_count": 90,
   "metadata": {},
   "outputs": [
    {
     "data": {
      "image/png": "[encoded data removed]",
      "text/plain": [
       "<matplotlib.figure.Figure at 0x13ecef6a400>"
      ]
     },
     "metadata": {},
     "output_type": "display_data"
    }
   ],
   "source": [
    "data[\"2008_HDI\"].plot.hist(density=True);"
   ]
  },
  {
   "cell_type": "code",
   "execution_count": 91,
   "metadata": {},
   "outputs": [
    {
     "data": {
      "image/png": "[encoded data removed]",
      "text/plain": [
       "<matplotlib.figure.Figure at 0x13ecf04d0f0>"
      ]
     },
     "metadata": {},
     "output_type": "display_data"
    }
   ],
   "source": [
    "data[\"2008_HDI\"].plot.box();"
   ]
  },
  {
   "cell_type": "code",
   "execution_count": 92,
   "metadata": {},
   "outputs": [],
   "source": [
    "data[\"2008_HDI_ordinal\"] = pd.cut(data[\"2008_HDI\"], bins=10)"
   ]
  },
  {
   "cell_type": "code",
   "execution_count": 93,
   "metadata": {},
   "outputs": [
    {
     "data": {
      "text/plain": [
       "Algeria                 (0.667, 0.712]\n",
       "Argentina               (0.758, 0.804]\n",
       "Australia               (0.895, 0.941]\n",
       "Austria                  (0.85, 0.895]\n",
       "Azerbaijan                         NaN\n",
       "Bangladesh               (0.484, 0.53]\n",
       "Belarus                 (0.712, 0.758]\n",
       "Brazil                  (0.667, 0.712]\n",
       "Bulgaria                (0.758, 0.804]\n",
       "Canada                  (0.895, 0.941]\n",
       "Chile                   (0.758, 0.804]\n",
       "China                   (0.621, 0.667]\n",
       "Colombia                (0.667, 0.712]\n",
       "Denmark                  (0.85, 0.895]\n",
       "Ecuador                 (0.712, 0.758]\n",
       "Egypt                   (0.621, 0.667]\n",
       "Finland                  (0.85, 0.895]\n",
       "France                   (0.85, 0.895]\n",
       "Germany                 (0.895, 0.941]\n",
       "Greece                   (0.85, 0.895]\n",
       "Hong Kong, China         (0.85, 0.895]\n",
       "Hungary                  (0.804, 0.85]\n",
       "Iceland                  (0.85, 0.895]\n",
       "India                    (0.484, 0.53]\n",
       "Indonesia               (0.575, 0.621]\n",
       "Iran                    (0.667, 0.712]\n",
       "Ireland                 (0.895, 0.941]\n",
       "Italy                    (0.85, 0.895]\n",
       "Japan                   (0.895, 0.941]\n",
       "Kazakhstan              (0.712, 0.758]\n",
       "                             ...      \n",
       "Malaysia                (0.712, 0.758]\n",
       "Mexico                  (0.758, 0.804]\n",
       "Netherlands             (0.895, 0.941]\n",
       "New Zealand             (0.895, 0.941]\n",
       "Norway                  (0.895, 0.941]\n",
       "Pakistan                 (0.484, 0.53]\n",
       "Peru                    (0.667, 0.712]\n",
       "Philippines             (0.621, 0.667]\n",
       "Poland                   (0.804, 0.85]\n",
       "Portugal                (0.758, 0.804]\n",
       "Qatar                    (0.804, 0.85]\n",
       "Romania                 (0.758, 0.804]\n",
       "Russia                  (0.712, 0.758]\n",
       "Saudi Arabia            (0.758, 0.804]\n",
       "Singapore                (0.85, 0.895]\n",
       "Slovak Republic          (0.804, 0.85]\n",
       "South Africa            (0.575, 0.621]\n",
       "Spain                    (0.85, 0.895]\n",
       "Sweden                  (0.895, 0.941]\n",
       "Switzerland              (0.85, 0.895]\n",
       "Taiwan                             NaN\n",
       "Thailand                (0.667, 0.712]\n",
       "Turkey                  (0.667, 0.712]\n",
       "Turkmenistan            (0.667, 0.712]\n",
       "Ukraine                 (0.712, 0.758]\n",
       "United Arab Emirates     (0.804, 0.85]\n",
       "United Kingdom           (0.85, 0.895]\n",
       "United States           (0.895, 0.941]\n",
       "Uzbekistan              (0.621, 0.667]\n",
       "Venezuela               (0.712, 0.758]\n",
       "Name: 2008_HDI_ordinal, Length: 62, dtype: category\n",
       "Categories (10, interval[float64]): [(0.484, 0.53] < (0.53, 0.575] < (0.575, 0.621] < (0.621, 0.667] ... (0.758, 0.804] < (0.804, 0.85] < (0.85, 0.895] < (0.895, 0.941]]"
      ]
     },
     "execution_count": 93,
     "metadata": {},
     "output_type": "execute_result"
    }
   ],
   "source": [
    "data[\"2008_HDI_ordinal\"]"
   ]
  },
  {
   "cell_type": "code",
   "execution_count": 94,
   "metadata": {},
   "outputs": [
    {
     "data": {
      "text/plain": [
       "(0.484, 0.53]      3\n",
       "(0.53, 0.575]      0\n",
       "(0.575, 0.621]     2\n",
       "(0.621, 0.667]     4\n",
       "(0.667, 0.712]     8\n",
       "(0.712, 0.758]     8\n",
       "(0.758, 0.804]     7\n",
       "(0.804, 0.85]      6\n",
       "(0.85, 0.895]     12\n",
       "(0.895, 0.941]    10\n",
       "Name: 2008_HDI_ordinal, dtype: int64"
      ]
     },
     "execution_count": 94,
     "metadata": {},
     "output_type": "execute_result"
    }
   ],
   "source": [
    "faixas = data[\"2008_HDI_ordinal\"].value_counts(sort=False)\n",
    "faixas"
   ]
  },
  {
   "cell_type": "code",
   "execution_count": 98,
   "metadata": {},
   "outputs": [
    {
     "data": {
      "text/plain": [
       "'faixas.plot.bar();'"
      ]
     },
     "execution_count": 98,
     "metadata": {},
     "output_type": "execute_result"
    }
   ],
   "source": [
    "'faixas.plot.bar();'"
   ]
  },
  {
   "cell_type": "code",
   "execution_count": 96,
   "metadata": {},
   "outputs": [
    {
     "data": {
      "text/plain": [
       "<matplotlib.axes._subplots.AxesSubplot at 0x13ecf0f5780>"
      ]
     },
     "execution_count": 96,
     "metadata": {},
     "output_type": "execute_result"
    },
    {
     "data": {
      "image/png": "[encoded data removed]",
      "text/plain": [
       "<matplotlib.figure.Figure at 0x13ecf0f9a58>"
      ]
     },
     "metadata": {},
     "output_type": "display_data"
    }
   ],
   "source": [
    "data.plot.scatter(x=\"2008_HDI\", y = \"2008_electricity\", loglog=True)"
   ]
  },
  {
   "cell_type": "code",
   "execution_count": 97,
   "metadata": {},
   "outputs": [
    {
     "data": {
      "text/plain": [
       "'\\npodemos perceber, principalmente neste ultimo grafico, que relaciona \\no IDH com a producao de eletricidade por pessoa , que quanto maior o \\nIDH de um pais, maior a produtividade eletrica, assim aparentado ser uma \\nrelacao de causa e consequencia\\n'"
      ]
     },
     "execution_count": 97,
     "metadata": {},
     "output_type": "execute_result"
    }
   ],
   "source": [
    "\"\"\"\n",
    "podemos perceber, principalmente neste ultimo grafico, que relaciona \n",
    "o IDH com a producao de eletricidade por pessoa , que quanto maior o \n",
    "IDH de um pais, maior a produtividade eletrica, assim aparentado ser uma \n",
    "relacao de causa e consequencia\n",
    "\"\"\""
   ]
  },
  {
   "cell_type": "code",
   "execution_count": null,
   "metadata": {},
   "outputs": [],
   "source": []
  },
  {
   "cell_type": "code",
   "execution_count": null,
   "metadata": {},
   "outputs": [],
   "source": []
  }
 ],
 "metadata": {
  "kernelspec": {
   "display_name": "Python 3",
   "language": "python",
   "name": "python3"
  },
  "language_info": {
   "codemirror_mode": {
    "name": "ipython",
    "version": 3
   },
   "file_extension": ".py",
   "mimetype": "text/x-python",
   "name": "python",
   "nbconvert_exporter": "python",
   "pygments_lexer": "ipython3",
   "version": "3.6.4"
  }
 },
 "nbformat": 4,
 "nbformat_minor": 2
}
